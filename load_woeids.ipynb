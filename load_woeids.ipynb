{
 "cells": [
  {
   "cell_type": "code",
   "execution_count": 50,
   "metadata": {},
   "outputs": [],
   "source": [
    "f = \"./woeids.json\""
   ]
  },
  {
   "cell_type": "code",
   "execution_count": 51,
   "metadata": {},
   "outputs": [],
   "source": [
    "from woeids import data"
   ]
  },
  {
   "cell_type": "code",
   "execution_count": 13,
   "metadata": {},
   "outputs": [
    {
     "name": "stdout",
     "output_type": "stream",
     "text": [
      "{'name': 'Worldwide', 'placeType': {'code': 19, 'name': 'Supername'}, 'url': 'http:\\\\/\\\\/where.yahooapis.com\\\\/v1\\\\/place\\\\/1', 'parentid': 0, 'country': '', 'woeid': 1, 'countryCode': 'null'}\n",
      "{'name': 'Winnipeg', 'placeType': {'code': 7, 'name': 'Town'}, 'url': 'http:\\\\/\\\\/where.yahooapis.com\\\\/v1\\\\/place\\\\/2972', 'parentid': 23424775, 'country': 'Canada', 'woeid': 2972, 'countryCode': 'CA'}\n",
      "{'name': 'Ottawa', 'placeType': {'code': 7, 'name': 'Town'}, 'url': 'http:\\\\/\\\\/where.yahooapis.com\\\\/v1\\\\/place\\\\/3369', 'parentid': 23424775, 'country': 'Canada', 'woeid': 3369, 'countryCode': 'CA'}\n"
     ]
    }
   ],
   "source": [
    "for rec in data[:3]:\n",
    "    print(rec)"
   ]
  },
  {
   "cell_type": "code",
   "execution_count": 52,
   "metadata": {},
   "outputs": [
    {
     "data": {
      "text/plain": [
       "{'name': 'Worldwide',\n",
       " 'placeType': {'code': 19, 'name': 'Supername'},\n",
       " 'url': 'http:\\\\/\\\\/where.yahooapis.com\\\\/v1\\\\/place\\\\/1',\n",
       " 'parentid': 0,\n",
       " 'country': '',\n",
       " 'woeid': 1,\n",
       " 'countryCode': 'null'}"
      ]
     },
     "execution_count": 52,
     "metadata": {},
     "output_type": "execute_result"
    }
   ],
   "source": [
    "data[0]"
   ]
  },
  {
   "cell_type": "code",
   "execution_count": 53,
   "metadata": {},
   "outputs": [],
   "source": [
    "import pandas as pd"
   ]
  },
  {
   "cell_type": "code",
   "execution_count": 54,
   "metadata": {},
   "outputs": [],
   "source": [
    "data_df = pd.read_json(f)"
   ]
  },
  {
   "cell_type": "code",
   "execution_count": 55,
   "metadata": {},
   "outputs": [],
   "source": [
    "data_df = data_df[['country', 'name', 'woeid']]"
   ]
  },
  {
   "cell_type": "code",
   "execution_count": 56,
   "metadata": {},
   "outputs": [],
   "source": [
    "fixture = []\n",
    "for idx, row in data_df.iterrows():\n",
    "    new_row = dict()\n",
    "    new_row['model'] = 'geohash.Woeids'\n",
    "    new_row['pk'] = idx\n",
    "    new_row['fields'] = dict(row)\n",
    "    fixture.append(new_row)"
   ]
  },
  {
   "cell_type": "code",
   "execution_count": 57,
   "metadata": {},
   "outputs": [
    {
     "data": {
      "text/plain": [
       "467"
      ]
     },
     "execution_count": 57,
     "metadata": {},
     "output_type": "execute_result"
    }
   ],
   "source": [
    "len(fixture)"
   ]
  },
  {
   "cell_type": "code",
   "execution_count": 58,
   "metadata": {},
   "outputs": [],
   "source": [
    "wf = './steves_twitter_apps/geohash/fixtures/test_fixture.json'"
   ]
  },
  {
   "cell_type": "code",
   "execution_count": 59,
   "metadata": {},
   "outputs": [],
   "source": [
    "import json"
   ]
  },
  {
   "cell_type": "code",
   "execution_count": 60,
   "metadata": {},
   "outputs": [],
   "source": [
    "with open(wf, 'w') as fout:\n",
    "    json.dump(fixture, fout)"
   ]
  },
  {
   "cell_type": "code",
   "execution_count": null,
   "metadata": {},
   "outputs": [],
   "source": []
  }
 ],
 "metadata": {
  "kernelspec": {
   "display_name": "Python 3",
   "language": "python",
   "name": "python3"
  },
  "language_info": {
   "codemirror_mode": {
    "name": "ipython",
    "version": 3
   },
   "file_extension": ".py",
   "mimetype": "text/x-python",
   "name": "python",
   "nbconvert_exporter": "python",
   "pygments_lexer": "ipython3",
   "version": "3.6.5"
  }
 },
 "nbformat": 4,
 "nbformat_minor": 2
}
