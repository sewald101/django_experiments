{
 "cells": [
  {
   "cell_type": "code",
   "execution_count": 6,
   "metadata": {},
   "outputs": [],
   "source": [
    "import json\n",
    "import numpy as np\n",
    "import pandas as pd\n",
    "import os\n",
    "import twitter\n",
    "\n",
    "from twitter_auth import get_secret\n"
   ]
  },
  {
   "cell_type": "code",
   "execution_count": 7,
   "metadata": {},
   "outputs": [],
   "source": [
    "f = \"./woeids.json\""
   ]
  },
  {
   "cell_type": "code",
   "execution_count": 8,
   "metadata": {},
   "outputs": [],
   "source": [
    "woeids = pd.read_json(f)"
   ]
  },
  {
   "cell_type": "code",
   "execution_count": 9,
   "metadata": {},
   "outputs": [
    {
     "name": "stdout",
     "output_type": "stream",
     "text": [
      "<class 'pandas.core.frame.DataFrame'>\n",
      "RangeIndex: 467 entries, 0 to 466\n",
      "Data columns (total 7 columns):\n",
      "country        467 non-null object\n",
      "countryCode    466 non-null object\n",
      "name           467 non-null object\n",
      "parentid       467 non-null int64\n",
      "placeType      467 non-null object\n",
      "url            467 non-null object\n",
      "woeid          467 non-null int64\n",
      "dtypes: int64(2), object(5)\n",
      "memory usage: 25.6+ KB\n"
     ]
    }
   ],
   "source": [
    "woeids.info()"
   ]
  },
  {
   "cell_type": "code",
   "execution_count": 12,
   "metadata": {},
   "outputs": [
    {
     "data": {
      "text/html": [
       "<div>\n",
       "<style scoped>\n",
       "    .dataframe tbody tr th:only-of-type {\n",
       "        vertical-align: middle;\n",
       "    }\n",
       "\n",
       "    .dataframe tbody tr th {\n",
       "        vertical-align: top;\n",
       "    }\n",
       "\n",
       "    .dataframe thead th {\n",
       "        text-align: right;\n",
       "    }\n",
       "</style>\n",
       "<table border=\"1\" class=\"dataframe\">\n",
       "  <thead>\n",
       "    <tr style=\"text-align: right;\">\n",
       "      <th></th>\n",
       "      <th>country</th>\n",
       "      <th>countryCode</th>\n",
       "      <th>name</th>\n",
       "      <th>parentid</th>\n",
       "      <th>placeType</th>\n",
       "      <th>url</th>\n",
       "      <th>woeid</th>\n",
       "    </tr>\n",
       "  </thead>\n",
       "  <tbody>\n",
       "    <tr>\n",
       "      <th>0</th>\n",
       "      <td></td>\n",
       "      <td>None</td>\n",
       "      <td>Worldwide</td>\n",
       "      <td>0</td>\n",
       "      <td>{'code': 19, 'name': 'Supername'}</td>\n",
       "      <td>http://where.yahooapis.com/v1/place/1</td>\n",
       "      <td>1</td>\n",
       "    </tr>\n",
       "    <tr>\n",
       "      <th>1</th>\n",
       "      <td>Canada</td>\n",
       "      <td>CA</td>\n",
       "      <td>Winnipeg</td>\n",
       "      <td>23424775</td>\n",
       "      <td>{'code': 7, 'name': 'Town'}</td>\n",
       "      <td>http://where.yahooapis.com/v1/place/2972</td>\n",
       "      <td>2972</td>\n",
       "    </tr>\n",
       "    <tr>\n",
       "      <th>2</th>\n",
       "      <td>Canada</td>\n",
       "      <td>CA</td>\n",
       "      <td>Ottawa</td>\n",
       "      <td>23424775</td>\n",
       "      <td>{'code': 7, 'name': 'Town'}</td>\n",
       "      <td>http://where.yahooapis.com/v1/place/3369</td>\n",
       "      <td>3369</td>\n",
       "    </tr>\n",
       "    <tr>\n",
       "      <th>3</th>\n",
       "      <td>Canada</td>\n",
       "      <td>CA</td>\n",
       "      <td>Quebec</td>\n",
       "      <td>23424775</td>\n",
       "      <td>{'code': 7, 'name': 'Town'}</td>\n",
       "      <td>http://where.yahooapis.com/v1/place/3444</td>\n",
       "      <td>3444</td>\n",
       "    </tr>\n",
       "    <tr>\n",
       "      <th>4</th>\n",
       "      <td>Canada</td>\n",
       "      <td>CA</td>\n",
       "      <td>Montreal</td>\n",
       "      <td>23424775</td>\n",
       "      <td>{'code': 7, 'name': 'Town'}</td>\n",
       "      <td>http://where.yahooapis.com/v1/place/3534</td>\n",
       "      <td>3534</td>\n",
       "    </tr>\n",
       "  </tbody>\n",
       "</table>\n",
       "</div>"
      ],
      "text/plain": [
       "  country countryCode       name  parentid                          placeType  \\\n",
       "0                None  Worldwide         0  {'code': 19, 'name': 'Supername'}   \n",
       "1  Canada          CA   Winnipeg  23424775        {'code': 7, 'name': 'Town'}   \n",
       "2  Canada          CA     Ottawa  23424775        {'code': 7, 'name': 'Town'}   \n",
       "3  Canada          CA     Quebec  23424775        {'code': 7, 'name': 'Town'}   \n",
       "4  Canada          CA   Montreal  23424775        {'code': 7, 'name': 'Town'}   \n",
       "\n",
       "                                        url  woeid  \n",
       "0     http://where.yahooapis.com/v1/place/1      1  \n",
       "1  http://where.yahooapis.com/v1/place/2972   2972  \n",
       "2  http://where.yahooapis.com/v1/place/3369   3369  \n",
       "3  http://where.yahooapis.com/v1/place/3444   3444  \n",
       "4  http://where.yahooapis.com/v1/place/3534   3534  "
      ]
     },
     "execution_count": 12,
     "metadata": {},
     "output_type": "execute_result"
    }
   ],
   "source": [
    "woeids.head()"
   ]
  },
  {
   "cell_type": "code",
   "execution_count": 13,
   "metadata": {},
   "outputs": [
    {
     "name": "stdout",
     "output_type": "stream",
     "text": [
      "<table border=\"1\" class=\"dataframe\">\n",
      "  <thead>\n",
      "    <tr style=\"text-align: right;\">\n",
      "      <th></th>\n",
      "      <th>country</th>\n",
      "      <th>countryCode</th>\n",
      "      <th>name</th>\n",
      "      <th>parentid</th>\n",
      "      <th>placeType</th>\n",
      "      <th>url</th>\n",
      "      <th>woeid</th>\n",
      "    </tr>\n",
      "  </thead>\n",
      "  <tbody>\n",
      "    <tr>\n",
      "      <th>0</th>\n",
      "      <td></td>\n",
      "      <td>None</td>\n",
      "      <td>Worldwide</td>\n",
      "      <td>0</td>\n",
      "      <td>{'code': 19, 'name': 'Supername'}</td>\n",
      "      <td>http://where.yahooapis.com/v1/place/1</td>\n",
      "      <td>1</td>\n",
      "    </tr>\n",
      "    <tr>\n",
      "      <th>1</th>\n",
      "      <td>Canada</td>\n",
      "      <td>CA</td>\n",
      "      <td>Winnipeg</td>\n",
      "      <td>23424775</td>\n",
      "      <td>{'code': 7, 'name': 'Town'}</td>\n",
      "      <td>http://where.yahooapis.com/v1/place/2972</td>\n",
      "      <td>2972</td>\n",
      "    </tr>\n",
      "    <tr>\n",
      "      <th>2</th>\n",
      "      <td>Canada</td>\n",
      "      <td>CA</td>\n",
      "      <td>Ottawa</td>\n",
      "      <td>23424775</td>\n",
      "      <td>{'code': 7, 'name': 'Town'}</td>\n",
      "      <td>http://where.yahooapis.com/v1/place/3369</td>\n",
      "      <td>3369</td>\n",
      "    </tr>\n",
      "    <tr>\n",
      "      <th>3</th>\n",
      "      <td>Canada</td>\n",
      "      <td>CA</td>\n",
      "      <td>Quebec</td>\n",
      "      <td>23424775</td>\n",
      "      <td>{'code': 7, 'name': 'Town'}</td>\n",
      "      <td>http://where.yahooapis.com/v1/place/3444</td>\n",
      "      <td>3444</td>\n",
      "    </tr>\n",
      "    <tr>\n",
      "      <th>4</th>\n",
      "      <td>Canada</td>\n",
      "      <td>CA</td>\n",
      "      <td>Montreal</td>\n",
      "      <td>23424775</td>\n",
      "      <td>{'code': 7, 'name': 'Town'}</td>\n",
      "      <td>http://where.yahooapis.com/v1/place/3534</td>\n",
      "      <td>3534</td>\n",
      "    </tr>\n",
      "  </tbody>\n",
      "</table>\n"
     ]
    }
   ],
   "source": [
    "test = woeids.head()\n",
    "print(test.to_html())"
   ]
  },
  {
   "cell_type": "code",
   "execution_count": 14,
   "metadata": {},
   "outputs": [
    {
     "name": "stdout",
     "output_type": "stream",
     "text": [
      "<class 'pandas.core.frame.DataFrame'>\n",
      "RangeIndex: 467 entries, 0 to 466\n",
      "Data columns (total 7 columns):\n",
      "country        467 non-null object\n",
      "countryCode    466 non-null object\n",
      "name           467 non-null object\n",
      "parentid       467 non-null int64\n",
      "placeType      467 non-null object\n",
      "url            467 non-null object\n",
      "woeid          467 non-null int64\n",
      "dtypes: int64(2), object(5)\n",
      "memory usage: 25.6+ KB\n"
     ]
    }
   ],
   "source": [
    "woeids.info()"
   ]
  },
  {
   "cell_type": "code",
   "execution_count": 15,
   "metadata": {},
   "outputs": [
    {
     "data": {
      "text/html": [
       "<div>\n",
       "<style scoped>\n",
       "    .dataframe tbody tr th:only-of-type {\n",
       "        vertical-align: middle;\n",
       "    }\n",
       "\n",
       "    .dataframe tbody tr th {\n",
       "        vertical-align: top;\n",
       "    }\n",
       "\n",
       "    .dataframe thead th {\n",
       "        text-align: right;\n",
       "    }\n",
       "</style>\n",
       "<table border=\"1\" class=\"dataframe\">\n",
       "  <thead>\n",
       "    <tr style=\"text-align: right;\">\n",
       "      <th></th>\n",
       "      <th>country</th>\n",
       "      <th>countryCode</th>\n",
       "      <th>name</th>\n",
       "      <th>parentid</th>\n",
       "      <th>placeType</th>\n",
       "      <th>url</th>\n",
       "      <th>woeid</th>\n",
       "    </tr>\n",
       "  </thead>\n",
       "  <tbody>\n",
       "    <tr>\n",
       "      <th>342</th>\n",
       "      <td>United States</td>\n",
       "      <td>US</td>\n",
       "      <td>Charlotte</td>\n",
       "      <td>23424977</td>\n",
       "      <td>{'code': 7, 'name': 'Town'}</td>\n",
       "      <td>http://where.yahooapis.com/v1/place/2378426</td>\n",
       "      <td>2378426</td>\n",
       "    </tr>\n",
       "  </tbody>\n",
       "</table>\n",
       "</div>"
      ],
      "text/plain": [
       "           country countryCode       name  parentid  \\\n",
       "342  United States          US  Charlotte  23424977   \n",
       "\n",
       "                       placeType                                          url  \\\n",
       "342  {'code': 7, 'name': 'Town'}  http://where.yahooapis.com/v1/place/2378426   \n",
       "\n",
       "       woeid  \n",
       "342  2378426  "
      ]
     },
     "execution_count": 15,
     "metadata": {},
     "output_type": "execute_result"
    }
   ],
   "source": [
    "woeids.loc[woeids['name'] == 'Charlotte']"
   ]
  },
  {
   "cell_type": "code",
   "execution_count": 16,
   "metadata": {},
   "outputs": [],
   "source": [
    "def lookup(name, country='United States'):\n",
    "    name = name.title()\n",
    "    country = country.title()\n",
    "    try:\n",
    "        return woeids.loc[(woeids['country'] == country) & (woeids['name'] == name), 'woeid'].iloc[0]\n",
    "    except IndexError: print(\"Not a valid country/name combo.\")"
   ]
  },
  {
   "cell_type": "code",
   "execution_count": 17,
   "metadata": {},
   "outputs": [
    {
     "data": {
      "text/plain": [
       "2451822"
      ]
     },
     "execution_count": 17,
     "metadata": {},
     "output_type": "execute_result"
    }
   ],
   "source": [
    "lookup('milwaukee')"
   ]
  },
  {
   "cell_type": "code",
   "execution_count": 18,
   "metadata": {},
   "outputs": [],
   "source": [
    "twit_auth = get_secret()"
   ]
  },
  {
   "cell_type": "code",
   "execution_count": 19,
   "metadata": {},
   "outputs": [],
   "source": [
    "consumer_key = twit_auth['CONSUMER_KEY']\n",
    "consumer_secret = twit_auth['CONSUMER_SECRET']\n",
    "access_token = twit_auth['ACCESS_TOKEN']\n",
    "access_secret = twit_auth['ACCESS_SECRET']"
   ]
  },
  {
   "cell_type": "code",
   "execution_count": 20,
   "metadata": {},
   "outputs": [],
   "source": [
    "api = twitter.Api(consumer_key, consumer_secret, access_token, access_secret)"
   ]
  },
  {
   "cell_type": "code",
   "execution_count": 47,
   "metadata": {},
   "outputs": [],
   "source": [
    "def trending_by_geo(name, country=\"United States\"):\n",
    "    woeid = lookup(name, country)\n",
    "    try:\n",
    "        raw = [(x.name, x.volume) for x in api.GetTrendsWoeid(woeid)]\n",
    "    except:\n",
    "        print(\"Not a Twitter geographical category.\")\n",
    "    else:\n",
    "        filtered = []\n",
    "        for result in raw:\n",
    "            if result[1] != None:\n",
    "                filtered.append(result)\n",
    "        results = pd.DataFrame(data=filtered, columns=[\"HashTag\", \"TweetVol\"])\n",
    "        results = results.sort_values(\"TweetVol\", ascending=False)\n",
    "        results.index = range(1, len(results)+1)\n",
    "        results['TweetVol'] = results.TweetVol.apply(lambda x : \"{:,}\".format(x))\n",
    "#         print(\"Top Trending HashTags in {}\".format(name.title()))\n",
    "        return results"
   ]
  },
  {
   "cell_type": "code",
   "execution_count": 48,
   "metadata": {},
   "outputs": [],
   "source": [
    "result = trending_by_geo(\"Seattle\")"
   ]
  },
  {
   "cell_type": "code",
   "execution_count": 49,
   "metadata": {},
   "outputs": [
    {
     "name": "stdout",
     "output_type": "stream",
     "text": [
      "{\"1\":{\"HashTag\":\"X \\u00c6 A-12\",\"TweetVol\":\"1,115,238\"},\"2\":{\"HashTag\":\"Adele\",\"TweetVol\":\"880,506\"},\"3\":{\"HashTag\":\"Grimes\",\"TweetVol\":\"370,999\"},\"4\":{\"HashTag\":\"#2YearsWithSingularity\",\"TweetVol\":\"202,386\"},\"5\":{\"HashTag\":\"Cinco de Mayo\",\"TweetVol\":\"181,102\"},\"6\":{\"HashTag\":\"Popular\",\"TweetVol\":\"159,593\"},\"7\":{\"HashTag\":\"#Chromatica\",\"TweetVol\":\"139,257\"},\"8\":{\"HashTag\":\"#ExposeCBS\",\"TweetVol\":\"120,296\"},\"9\":{\"HashTag\":\"#NationalNursesDay\",\"TweetVol\":\"103,112\"},\"10\":{\"HashTag\":\"Kraftwerk\",\"TweetVol\":\"70,181\"},\"11\":{\"HashTag\":\"Florian Schneider\",\"TweetVol\":\"57,300\"},\"12\":{\"HashTag\":\"Milano\",\"TweetVol\":\"56,328\"},\"13\":{\"HashTag\":\"#JusticeForAhmaud\",\"TweetVol\":\"47,901\"},\"14\":{\"HashTag\":\"115 YEARS\",\"TweetVol\":\"31,806\"},\"15\":{\"HashTag\":\"Grandma Killer\",\"TweetVol\":\"24,144\"},\"16\":{\"HashTag\":\"Ashley Benson\",\"TweetVol\":\"20,280\"},\"17\":{\"HashTag\":\"New Blacks\",\"TweetVol\":\"19,583\"},\"18\":{\"HashTag\":\"#Banksy\",\"TweetVol\":\"17,492\"},\"19\":{\"HashTag\":\"#NS10vs10\",\"TweetVol\":\"17,219\"},\"20\":{\"HashTag\":\"#Clockdown\",\"TweetVol\":\"16,146\"},\"21\":{\"HashTag\":\"Trina\",\"TweetVol\":\"14,479\"},\"22\":{\"HashTag\":\"Title IX\",\"TweetVol\":\"14,182\"},\"23\":{\"HashTag\":\"Bethany\",\"TweetVol\":\"12,051\"},\"24\":{\"HashTag\":\"#WednesdayVibes\",\"TweetVol\":\"11,436\"}}\n"
     ]
    }
   ],
   "source": [
    "print(result.to_json(orient='index'))"
   ]
  },
  {
   "cell_type": "code",
   "execution_count": null,
   "metadata": {},
   "outputs": [],
   "source": []
  }
 ],
 "metadata": {
  "kernelspec": {
   "display_name": "Python 3",
   "language": "python",
   "name": "python3"
  },
  "language_info": {
   "codemirror_mode": {
    "name": "ipython",
    "version": 3
   },
   "file_extension": ".py",
   "mimetype": "text/x-python",
   "name": "python",
   "nbconvert_exporter": "python",
   "pygments_lexer": "ipython3",
   "version": "3.6.5"
  }
 },
 "nbformat": 4,
 "nbformat_minor": 2
}
