{
 "cells": [
  {
   "cell_type": "code",
   "execution_count": 1,
   "metadata": {},
   "outputs": [],
   "source": [
    "import json\n",
    "import numpy as np\n",
    "import pandas as pd\n",
    "import os\n",
    "import twitter\n",
    "\n",
    "from twitter_auth import get_secret\n"
   ]
  },
  {
   "cell_type": "code",
   "execution_count": 2,
   "metadata": {},
   "outputs": [],
   "source": [
    "f = \"./woeids.json\""
   ]
  },
  {
   "cell_type": "code",
   "execution_count": 3,
   "metadata": {},
   "outputs": [],
   "source": [
    "woeids = pd.read_json(f)"
   ]
  },
  {
   "cell_type": "code",
   "execution_count": 4,
   "metadata": {},
   "outputs": [
    {
     "name": "stdout",
     "output_type": "stream",
     "text": [
      "<class 'pandas.core.frame.DataFrame'>\n",
      "RangeIndex: 467 entries, 0 to 466\n",
      "Data columns (total 7 columns):\n",
      "country        467 non-null object\n",
      "countryCode    466 non-null object\n",
      "name           467 non-null object\n",
      "parentid       467 non-null int64\n",
      "placeType      467 non-null object\n",
      "url            467 non-null object\n",
      "woeid          467 non-null int64\n",
      "dtypes: int64(2), object(5)\n",
      "memory usage: 25.6+ KB\n"
     ]
    }
   ],
   "source": [
    "woeids.info()"
   ]
  },
  {
   "cell_type": "code",
   "execution_count": 5,
   "metadata": {},
   "outputs": [
    {
     "data": {
      "text/html": [
       "<div>\n",
       "<style scoped>\n",
       "    .dataframe tbody tr th:only-of-type {\n",
       "        vertical-align: middle;\n",
       "    }\n",
       "\n",
       "    .dataframe tbody tr th {\n",
       "        vertical-align: top;\n",
       "    }\n",
       "\n",
       "    .dataframe thead th {\n",
       "        text-align: right;\n",
       "    }\n",
       "</style>\n",
       "<table border=\"1\" class=\"dataframe\">\n",
       "  <thead>\n",
       "    <tr style=\"text-align: right;\">\n",
       "      <th></th>\n",
       "      <th>country</th>\n",
       "      <th>countryCode</th>\n",
       "      <th>name</th>\n",
       "      <th>parentid</th>\n",
       "      <th>placeType</th>\n",
       "      <th>url</th>\n",
       "      <th>woeid</th>\n",
       "    </tr>\n",
       "  </thead>\n",
       "  <tbody>\n",
       "    <tr>\n",
       "      <th>0</th>\n",
       "      <td></td>\n",
       "      <td>None</td>\n",
       "      <td>Worldwide</td>\n",
       "      <td>0</td>\n",
       "      <td>{'code': 19, 'name': 'Supername'}</td>\n",
       "      <td>http://where.yahooapis.com/v1/place/1</td>\n",
       "      <td>1</td>\n",
       "    </tr>\n",
       "    <tr>\n",
       "      <th>1</th>\n",
       "      <td>Canada</td>\n",
       "      <td>CA</td>\n",
       "      <td>Winnipeg</td>\n",
       "      <td>23424775</td>\n",
       "      <td>{'code': 7, 'name': 'Town'}</td>\n",
       "      <td>http://where.yahooapis.com/v1/place/2972</td>\n",
       "      <td>2972</td>\n",
       "    </tr>\n",
       "    <tr>\n",
       "      <th>2</th>\n",
       "      <td>Canada</td>\n",
       "      <td>CA</td>\n",
       "      <td>Ottawa</td>\n",
       "      <td>23424775</td>\n",
       "      <td>{'code': 7, 'name': 'Town'}</td>\n",
       "      <td>http://where.yahooapis.com/v1/place/3369</td>\n",
       "      <td>3369</td>\n",
       "    </tr>\n",
       "    <tr>\n",
       "      <th>3</th>\n",
       "      <td>Canada</td>\n",
       "      <td>CA</td>\n",
       "      <td>Quebec</td>\n",
       "      <td>23424775</td>\n",
       "      <td>{'code': 7, 'name': 'Town'}</td>\n",
       "      <td>http://where.yahooapis.com/v1/place/3444</td>\n",
       "      <td>3444</td>\n",
       "    </tr>\n",
       "    <tr>\n",
       "      <th>4</th>\n",
       "      <td>Canada</td>\n",
       "      <td>CA</td>\n",
       "      <td>Montreal</td>\n",
       "      <td>23424775</td>\n",
       "      <td>{'code': 7, 'name': 'Town'}</td>\n",
       "      <td>http://where.yahooapis.com/v1/place/3534</td>\n",
       "      <td>3534</td>\n",
       "    </tr>\n",
       "  </tbody>\n",
       "</table>\n",
       "</div>"
      ],
      "text/plain": [
       "  country countryCode       name  parentid                          placeType  \\\n",
       "0                None  Worldwide         0  {'code': 19, 'name': 'Supername'}   \n",
       "1  Canada          CA   Winnipeg  23424775        {'code': 7, 'name': 'Town'}   \n",
       "2  Canada          CA     Ottawa  23424775        {'code': 7, 'name': 'Town'}   \n",
       "3  Canada          CA     Quebec  23424775        {'code': 7, 'name': 'Town'}   \n",
       "4  Canada          CA   Montreal  23424775        {'code': 7, 'name': 'Town'}   \n",
       "\n",
       "                                        url  woeid  \n",
       "0     http://where.yahooapis.com/v1/place/1      1  \n",
       "1  http://where.yahooapis.com/v1/place/2972   2972  \n",
       "2  http://where.yahooapis.com/v1/place/3369   3369  \n",
       "3  http://where.yahooapis.com/v1/place/3444   3444  \n",
       "4  http://where.yahooapis.com/v1/place/3534   3534  "
      ]
     },
     "execution_count": 5,
     "metadata": {},
     "output_type": "execute_result"
    }
   ],
   "source": [
    "woeids.head()"
   ]
  },
  {
   "cell_type": "code",
   "execution_count": 6,
   "metadata": {},
   "outputs": [],
   "source": [
    "test = woeids.head()\n",
    "# print(test.to_html())"
   ]
  },
  {
   "cell_type": "code",
   "execution_count": 7,
   "metadata": {},
   "outputs": [
    {
     "data": {
      "text/html": [
       "<div>\n",
       "<style scoped>\n",
       "    .dataframe tbody tr th:only-of-type {\n",
       "        vertical-align: middle;\n",
       "    }\n",
       "\n",
       "    .dataframe tbody tr th {\n",
       "        vertical-align: top;\n",
       "    }\n",
       "\n",
       "    .dataframe thead th {\n",
       "        text-align: right;\n",
       "    }\n",
       "</style>\n",
       "<table border=\"1\" class=\"dataframe\">\n",
       "  <thead>\n",
       "    <tr style=\"text-align: right;\">\n",
       "      <th></th>\n",
       "      <th>country</th>\n",
       "      <th>countryCode</th>\n",
       "      <th>name</th>\n",
       "      <th>parentid</th>\n",
       "      <th>placeType</th>\n",
       "      <th>url</th>\n",
       "      <th>woeid</th>\n",
       "    </tr>\n",
       "  </thead>\n",
       "  <tbody>\n",
       "  </tbody>\n",
       "</table>\n",
       "</div>"
      ],
      "text/plain": [
       "Empty DataFrame\n",
       "Columns: [country, countryCode, name, parentid, placeType, url, woeid]\n",
       "Index: []"
      ]
     },
     "execution_count": 7,
     "metadata": {},
     "output_type": "execute_result"
    }
   ],
   "source": [
    "woeids.loc[woeids['name'] == 'milwaukee']"
   ]
  },
  {
   "cell_type": "code",
   "execution_count": 8,
   "metadata": {},
   "outputs": [],
   "source": [
    "def lookup(name, country='United States'):\n",
    "    name = name.title()\n",
    "    country = country.title()\n",
    "    try:\n",
    "        return woeids.loc[(woeids['country'] == country) & (woeids['name'] == name), 'woeid'].iloc[0]\n",
    "    except IndexError: print(\"Not a valid country/name combo.\")"
   ]
  },
  {
   "cell_type": "code",
   "execution_count": 9,
   "metadata": {},
   "outputs": [
    {
     "data": {
      "text/plain": [
       "23424977"
      ]
     },
     "execution_count": 9,
     "metadata": {},
     "output_type": "execute_result"
    }
   ],
   "source": [
    "lookup('united states')"
   ]
  },
  {
   "cell_type": "code",
   "execution_count": 10,
   "metadata": {},
   "outputs": [],
   "source": [
    "twit_auth = get_secret()"
   ]
  },
  {
   "cell_type": "code",
   "execution_count": 11,
   "metadata": {},
   "outputs": [],
   "source": [
    "consumer_key = twit_auth['CONSUMER_KEY']\n",
    "consumer_secret = twit_auth['CONSUMER_SECRET']\n",
    "access_token = twit_auth['ACCESS_TOKEN']\n",
    "access_secret = twit_auth['ACCESS_SECRET']"
   ]
  },
  {
   "cell_type": "code",
   "execution_count": 12,
   "metadata": {},
   "outputs": [],
   "source": [
    "api = twitter.Api(consumer_key, consumer_secret, access_token, access_secret)"
   ]
  },
  {
   "cell_type": "code",
   "execution_count": 13,
   "metadata": {},
   "outputs": [],
   "source": [
    "def trending_by_geo(name, country=\"United States\"):\n",
    "    woeid = lookup(name, country)\n",
    "    try:\n",
    "        raw = [(x.name, x.volume) for x in api.GetTrendsWoeid(woeid)]\n",
    "    except:\n",
    "        print(\"Not a Twitter geographical category.\")\n",
    "    else:\n",
    "        filtered = []\n",
    "        for result in raw:\n",
    "            if result[1] != None:\n",
    "                filtered.append(result)\n",
    "        results = pd.DataFrame(data=filtered, columns=[\"HashTag\", \"TweetVol\"])\n",
    "        results = results.sort_values(\"TweetVol\", ascending=False)\n",
    "        results.index = range(1, len(results)+1)\n",
    "        results['TweetVol'] = results.TweetVol.apply(lambda x : \"{:,}\".format(x))\n",
    "#         print(\"Top Trending HashTags in {}\".format(name.title()))\n",
    "        return results"
   ]
  },
  {
   "cell_type": "code",
   "execution_count": 14,
   "metadata": {},
   "outputs": [],
   "source": [
    "result = trending_by_geo(\"Seattle\")"
   ]
  },
  {
   "cell_type": "code",
   "execution_count": 17,
   "metadata": {},
   "outputs": [
    {
     "name": "stdout",
     "output_type": "stream",
     "text": [
      "{\"HashTag\":{\"1\":\"Adele\",\"2\":\"X \\u00c6 A-12\",\"3\":\"#NationalNursesDay\",\"4\":\"Earl Thomas\",\"5\":\"\\\"Ambassador\\\"\",\"6\":\"#ThursdayThoughts\",\"7\":\"Carville\",\"8\":\"#supermoon\",\"9\":\"#FelizJueves\",\"10\":\"Sean Reed\",\"11\":\"AP Exclusive\",\"12\":\"Praying Mantis\",\"13\":\"#InsideXbox\",\"14\":\"#ConspiracyTheory\",\"15\":\"#AhmaudAubrey\",\"16\":\"Jason Whitlock\"},\"TweetVol\":{\"1\":\"794,251\",\"2\":\"662,014\",\"3\":\"130,072\",\"4\":\"92,236\",\"5\":\"43,024\",\"6\":\"40,687\",\"7\":\"26,325\",\"8\":\"25,064\",\"9\":\"22,731\",\"10\":\"22,011\",\"11\":\"14,382\",\"12\":\"13,357\",\"13\":\"13,026\",\"14\":\"11,745\",\"15\":\"11,659\",\"16\":\"11,376\"}}\n"
     ]
    }
   ],
   "source": [
    "print(result.to_json(orient=None))"
   ]
  },
  {
   "cell_type": "code",
   "execution_count": null,
   "metadata": {},
   "outputs": [],
   "source": []
  }
 ],
 "metadata": {
  "kernelspec": {
   "display_name": "Python 3",
   "language": "python",
   "name": "python3"
  },
  "language_info": {
   "codemirror_mode": {
    "name": "ipython",
    "version": 3
   },
   "file_extension": ".py",
   "mimetype": "text/x-python",
   "name": "python",
   "nbconvert_exporter": "python",
   "pygments_lexer": "ipython3",
   "version": "3.6.5"
  }
 },
 "nbformat": 4,
 "nbformat_minor": 2
}
