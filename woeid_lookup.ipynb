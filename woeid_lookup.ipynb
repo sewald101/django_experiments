{
 "cells": [
  {
   "cell_type": "code",
   "execution_count": 1,
   "metadata": {},
   "outputs": [],
   "source": [
    "import json\n",
    "import numpy as np\n",
    "import pandas as pd\n",
    "import os\n",
    "import twitter\n",
    "\n",
    "from twitter_auth import get_secret"
   ]
  },
  {
   "cell_type": "code",
   "execution_count": 14,
   "metadata": {},
   "outputs": [],
   "source": [
    "import argparse"
   ]
  },
  {
   "cell_type": "code",
   "execution_count": 16,
   "metadata": {},
   "outputs": [],
   "source": [
    "parser = argparse.ArgumentParser()"
   ]
  },
  {
   "cell_type": "code",
   "execution_count": null,
   "metadata": {},
   "outputs": [],
   "source": [
    "parser.add_argument(\"--name\", \"-nm\", name=)"
   ]
  },
  {
   "cell_type": "code",
   "execution_count": null,
   "metadata": {},
   "outputs": [],
   "source": []
  },
  {
   "cell_type": "code",
   "execution_count": null,
   "metadata": {},
   "outputs": [],
   "source": []
  },
  {
   "cell_type": "code",
   "execution_count": 2,
   "metadata": {},
   "outputs": [],
   "source": [
    "f = \"./woeids.json\""
   ]
  },
  {
   "cell_type": "code",
   "execution_count": 3,
   "metadata": {},
   "outputs": [],
   "source": [
    "woeids = pd.read_json(f)"
   ]
  },
  {
   "cell_type": "code",
   "execution_count": 4,
   "metadata": {},
   "outputs": [
    {
     "data": {
      "text/html": [
       "<div>\n",
       "<style scoped>\n",
       "    .dataframe tbody tr th:only-of-type {\n",
       "        vertical-align: middle;\n",
       "    }\n",
       "\n",
       "    .dataframe tbody tr th {\n",
       "        vertical-align: top;\n",
       "    }\n",
       "\n",
       "    .dataframe thead th {\n",
       "        text-align: right;\n",
       "    }\n",
       "</style>\n",
       "<table border=\"1\" class=\"dataframe\">\n",
       "  <thead>\n",
       "    <tr style=\"text-align: right;\">\n",
       "      <th></th>\n",
       "      <th>country</th>\n",
       "      <th>countryCode</th>\n",
       "      <th>name</th>\n",
       "      <th>parentid</th>\n",
       "      <th>placeType</th>\n",
       "      <th>url</th>\n",
       "      <th>woeid</th>\n",
       "    </tr>\n",
       "  </thead>\n",
       "  <tbody>\n",
       "    <tr>\n",
       "      <th>0</th>\n",
       "      <td></td>\n",
       "      <td>None</td>\n",
       "      <td>Worldwide</td>\n",
       "      <td>0</td>\n",
       "      <td>{'code': 19, 'name': 'Supername'}</td>\n",
       "      <td>http://where.yahooapis.com/v1/place/1</td>\n",
       "      <td>1</td>\n",
       "    </tr>\n",
       "    <tr>\n",
       "      <th>1</th>\n",
       "      <td>Canada</td>\n",
       "      <td>CA</td>\n",
       "      <td>Winnipeg</td>\n",
       "      <td>23424775</td>\n",
       "      <td>{'code': 7, 'name': 'Town'}</td>\n",
       "      <td>http://where.yahooapis.com/v1/place/2972</td>\n",
       "      <td>2972</td>\n",
       "    </tr>\n",
       "    <tr>\n",
       "      <th>2</th>\n",
       "      <td>Canada</td>\n",
       "      <td>CA</td>\n",
       "      <td>Ottawa</td>\n",
       "      <td>23424775</td>\n",
       "      <td>{'code': 7, 'name': 'Town'}</td>\n",
       "      <td>http://where.yahooapis.com/v1/place/3369</td>\n",
       "      <td>3369</td>\n",
       "    </tr>\n",
       "    <tr>\n",
       "      <th>3</th>\n",
       "      <td>Canada</td>\n",
       "      <td>CA</td>\n",
       "      <td>Quebec</td>\n",
       "      <td>23424775</td>\n",
       "      <td>{'code': 7, 'name': 'Town'}</td>\n",
       "      <td>http://where.yahooapis.com/v1/place/3444</td>\n",
       "      <td>3444</td>\n",
       "    </tr>\n",
       "    <tr>\n",
       "      <th>4</th>\n",
       "      <td>Canada</td>\n",
       "      <td>CA</td>\n",
       "      <td>Montreal</td>\n",
       "      <td>23424775</td>\n",
       "      <td>{'code': 7, 'name': 'Town'}</td>\n",
       "      <td>http://where.yahooapis.com/v1/place/3534</td>\n",
       "      <td>3534</td>\n",
       "    </tr>\n",
       "  </tbody>\n",
       "</table>\n",
       "</div>"
      ],
      "text/plain": [
       "  country countryCode       name  parentid                          placeType  \\\n",
       "0                None  Worldwide         0  {'code': 19, 'name': 'Supername'}   \n",
       "1  Canada          CA   Winnipeg  23424775        {'code': 7, 'name': 'Town'}   \n",
       "2  Canada          CA     Ottawa  23424775        {'code': 7, 'name': 'Town'}   \n",
       "3  Canada          CA     Quebec  23424775        {'code': 7, 'name': 'Town'}   \n",
       "4  Canada          CA   Montreal  23424775        {'code': 7, 'name': 'Town'}   \n",
       "\n",
       "                                        url  woeid  \n",
       "0     http://where.yahooapis.com/v1/place/1      1  \n",
       "1  http://where.yahooapis.com/v1/place/2972   2972  \n",
       "2  http://where.yahooapis.com/v1/place/3369   3369  \n",
       "3  http://where.yahooapis.com/v1/place/3444   3444  \n",
       "4  http://where.yahooapis.com/v1/place/3534   3534  "
      ]
     },
     "execution_count": 4,
     "metadata": {},
     "output_type": "execute_result"
    }
   ],
   "source": [
    "woeids.head()"
   ]
  },
  {
   "cell_type": "code",
   "execution_count": 5,
   "metadata": {},
   "outputs": [
    {
     "data": {
      "text/html": [
       "<div>\n",
       "<style scoped>\n",
       "    .dataframe tbody tr th:only-of-type {\n",
       "        vertical-align: middle;\n",
       "    }\n",
       "\n",
       "    .dataframe tbody tr th {\n",
       "        vertical-align: top;\n",
       "    }\n",
       "\n",
       "    .dataframe thead th {\n",
       "        text-align: right;\n",
       "    }\n",
       "</style>\n",
       "<table border=\"1\" class=\"dataframe\">\n",
       "  <thead>\n",
       "    <tr style=\"text-align: right;\">\n",
       "      <th></th>\n",
       "      <th>country</th>\n",
       "      <th>countryCode</th>\n",
       "      <th>name</th>\n",
       "      <th>parentid</th>\n",
       "      <th>placeType</th>\n",
       "      <th>url</th>\n",
       "      <th>woeid</th>\n",
       "    </tr>\n",
       "  </thead>\n",
       "  <tbody>\n",
       "    <tr>\n",
       "      <th>342</th>\n",
       "      <td>United States</td>\n",
       "      <td>US</td>\n",
       "      <td>Charlotte</td>\n",
       "      <td>23424977</td>\n",
       "      <td>{'code': 7, 'name': 'Town'}</td>\n",
       "      <td>http://where.yahooapis.com/v1/place/2378426</td>\n",
       "      <td>2378426</td>\n",
       "    </tr>\n",
       "  </tbody>\n",
       "</table>\n",
       "</div>"
      ],
      "text/plain": [
       "           country countryCode       name  parentid  \\\n",
       "342  United States          US  Charlotte  23424977   \n",
       "\n",
       "                       placeType                                          url  \\\n",
       "342  {'code': 7, 'name': 'Town'}  http://where.yahooapis.com/v1/place/2378426   \n",
       "\n",
       "       woeid  \n",
       "342  2378426  "
      ]
     },
     "execution_count": 5,
     "metadata": {},
     "output_type": "execute_result"
    }
   ],
   "source": [
    "woeids.loc[woeids['name'] == 'Charlotte']"
   ]
  },
  {
   "cell_type": "code",
   "execution_count": 6,
   "metadata": {},
   "outputs": [],
   "source": [
    "def lookup(name, country='United States'):\n",
    "    name = name.title()\n",
    "    country = country.title()\n",
    "    try:\n",
    "        return woeids.loc[(woeids['country'] == country) & (woeids['name'] == name), 'woeid'].iloc[0]\n",
    "    except IndexError: print(\"Not a valid country/name combo.\")"
   ]
  },
  {
   "cell_type": "code",
   "execution_count": 7,
   "metadata": {},
   "outputs": [
    {
     "data": {
      "text/plain": [
       "2451822"
      ]
     },
     "execution_count": 7,
     "metadata": {},
     "output_type": "execute_result"
    }
   ],
   "source": [
    "lookup('milwaukee')"
   ]
  },
  {
   "cell_type": "code",
   "execution_count": 8,
   "metadata": {},
   "outputs": [],
   "source": [
    "twit_auth = get_secret()"
   ]
  },
  {
   "cell_type": "code",
   "execution_count": 9,
   "metadata": {},
   "outputs": [],
   "source": [
    "consumer_key = twit_auth['CONSUMER_KEY']\n",
    "consumer_secret = twit_auth['CONSUMER_SECRET']\n",
    "access_token = twit_auth['ACCESS_TOKEN']\n",
    "access_secret = twit_auth['ACCESS_SECRET']"
   ]
  },
  {
   "cell_type": "code",
   "execution_count": 10,
   "metadata": {},
   "outputs": [],
   "source": [
    "api = twitter.Api(consumer_key, consumer_secret, access_token, access_secret)"
   ]
  },
  {
   "cell_type": "code",
   "execution_count": 11,
   "metadata": {},
   "outputs": [],
   "source": [
    "def trending_by_geo(name, country=\"United States\"):\n",
    "    woeid = lookup(name, country)\n",
    "    try:\n",
    "        raw = [(x.name, x.volume) for x in api.GetTrendsWoeid(woeid)]\n",
    "    except:\n",
    "        print(\"Not a Twitter geographical category.\")\n",
    "    else:\n",
    "        filtered = []\n",
    "        for result in raw:\n",
    "            if result[1] != None:\n",
    "                filtered.append(result)\n",
    "        results = pd.DataFrame(data=filtered, columns=[\"HashTag\", \"TweetVol\"])\n",
    "        results = results.sort_values(\"TweetVol\", ascending=False)\n",
    "        results.index = range(1, len(results)+1)\n",
    "        print(\"Top Trending HashTags in {}\".format(name.title()))\n",
    "        return results"
   ]
  },
  {
   "cell_type": "code",
   "execution_count": 12,
   "metadata": {},
   "outputs": [
    {
     "name": "stdout",
     "output_type": "stream",
     "text": [
      "Top Trending HashTags in Milwaukee\n"
     ]
    },
    {
     "data": {
      "text/html": [
       "<div>\n",
       "<style scoped>\n",
       "    .dataframe tbody tr th:only-of-type {\n",
       "        vertical-align: middle;\n",
       "    }\n",
       "\n",
       "    .dataframe tbody tr th {\n",
       "        vertical-align: top;\n",
       "    }\n",
       "\n",
       "    .dataframe thead th {\n",
       "        text-align: right;\n",
       "    }\n",
       "</style>\n",
       "<table border=\"1\" class=\"dataframe\">\n",
       "  <thead>\n",
       "    <tr style=\"text-align: right;\">\n",
       "      <th></th>\n",
       "      <th>HashTag</th>\n",
       "      <th>TweetVol</th>\n",
       "    </tr>\n",
       "  </thead>\n",
       "  <tbody>\n",
       "    <tr>\n",
       "      <th>1</th>\n",
       "      <td>Biden</td>\n",
       "      <td>891264</td>\n",
       "    </tr>\n",
       "    <tr>\n",
       "      <th>2</th>\n",
       "      <td>Democrats</td>\n",
       "      <td>278848</td>\n",
       "    </tr>\n",
       "    <tr>\n",
       "      <th>3</th>\n",
       "      <td>Minnie</td>\n",
       "      <td>130179</td>\n",
       "    </tr>\n",
       "    <tr>\n",
       "      <th>4</th>\n",
       "      <td>Rodman</td>\n",
       "      <td>127242</td>\n",
       "    </tr>\n",
       "    <tr>\n",
       "      <th>5</th>\n",
       "      <td>Lebron</td>\n",
       "      <td>75234</td>\n",
       "    </tr>\n",
       "    <tr>\n",
       "      <th>6</th>\n",
       "      <td>Lakers</td>\n",
       "      <td>67429</td>\n",
       "    </tr>\n",
       "    <tr>\n",
       "      <th>7</th>\n",
       "      <td>Ligue</td>\n",
       "      <td>58172</td>\n",
       "    </tr>\n",
       "    <tr>\n",
       "      <th>8</th>\n",
       "      <td>Bulls</td>\n",
       "      <td>38025</td>\n",
       "    </tr>\n",
       "    <tr>\n",
       "      <th>9</th>\n",
       "      <td>#AliensExist</td>\n",
       "      <td>34581</td>\n",
       "    </tr>\n",
       "    <tr>\n",
       "      <th>10</th>\n",
       "      <td>Adina</td>\n",
       "      <td>32900</td>\n",
       "    </tr>\n",
       "    <tr>\n",
       "      <th>11</th>\n",
       "      <td>Rabia</td>\n",
       "      <td>31884</td>\n",
       "    </tr>\n",
       "    <tr>\n",
       "      <th>12</th>\n",
       "      <td>#FelizMartes</td>\n",
       "      <td>23020</td>\n",
       "    </tr>\n",
       "    <tr>\n",
       "      <th>13</th>\n",
       "      <td>#tuesdayvibes</td>\n",
       "      <td>22166</td>\n",
       "    </tr>\n",
       "    <tr>\n",
       "      <th>14</th>\n",
       "      <td>#ufo2020</td>\n",
       "      <td>19536</td>\n",
       "    </tr>\n",
       "    <tr>\n",
       "      <th>15</th>\n",
       "      <td>#NationalSuperheroDay</td>\n",
       "      <td>13787</td>\n",
       "    </tr>\n",
       "    <tr>\n",
       "      <th>16</th>\n",
       "      <td>#PerhapsYouShouldStop</td>\n",
       "      <td>13542</td>\n",
       "    </tr>\n",
       "  </tbody>\n",
       "</table>\n",
       "</div>"
      ],
      "text/plain": [
       "                  HashTag  TweetVol\n",
       "1                   Biden    891264\n",
       "2               Democrats    278848\n",
       "3                  Minnie    130179\n",
       "4                  Rodman    127242\n",
       "5                  Lebron     75234\n",
       "6                  Lakers     67429\n",
       "7                   Ligue     58172\n",
       "8                   Bulls     38025\n",
       "9            #AliensExist     34581\n",
       "10                  Adina     32900\n",
       "11                  Rabia     31884\n",
       "12           #FelizMartes     23020\n",
       "13          #tuesdayvibes     22166\n",
       "14               #ufo2020     19536\n",
       "15  #NationalSuperheroDay     13787\n",
       "16  #PerhapsYouShouldStop     13542"
      ]
     },
     "execution_count": 12,
     "metadata": {},
     "output_type": "execute_result"
    }
   ],
   "source": [
    "trending_by_geo(\"milwaukee\")"
   ]
  },
  {
   "cell_type": "code",
   "execution_count": 13,
   "metadata": {},
   "outputs": [
    {
     "data": {
      "text/plain": [
       "Status(ID=1254250976015290369, ScreenName=bookofthenewsun, Created=Sun Apr 26 03:28:30 +0000 2020, Text='@TalbertSwan @realDonaldTrump You’re a pastor?')"
      ]
     },
     "execution_count": 13,
     "metadata": {},
     "output_type": "execute_result"
    }
   ],
   "source": [
    "api.GetStatus(1254250976015290369)"
   ]
  },
  {
   "cell_type": "code",
   "execution_count": null,
   "metadata": {},
   "outputs": [],
   "source": []
  }
 ],
 "metadata": {
  "kernelspec": {
   "display_name": "Python 3",
   "language": "python",
   "name": "python3"
  },
  "language_info": {
   "codemirror_mode": {
    "name": "ipython",
    "version": 3
   },
   "file_extension": ".py",
   "mimetype": "text/x-python",
   "name": "python",
   "nbconvert_exporter": "python",
   "pygments_lexer": "ipython3",
   "version": "3.6.5"
  }
 },
 "nbformat": 4,
 "nbformat_minor": 2
}
